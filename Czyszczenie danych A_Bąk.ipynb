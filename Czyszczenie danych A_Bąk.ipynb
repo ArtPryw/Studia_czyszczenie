{
 "cells": [
  {
   "cell_type": "markdown",
   "metadata": {},
   "source": [
    "# 1) Załadowanie bilbiotek"
   ]
  },
  {
   "cell_type": "code",
   "execution_count": 171,
   "metadata": {},
   "outputs": [],
   "source": [
    "import pandas as pd\n",
    "import statistics"
   ]
  },
  {
   "cell_type": "code",
   "execution_count": 172,
   "metadata": {},
   "outputs": [],
   "source": [
    "#Read raw data\n",
    "sep = '\\t'\n",
    "df_raw = pd.read_csv('TitanicMess.tsv', sep=sep)"
   ]
  },
  {
   "cell_type": "markdown",
   "metadata": {},
   "source": [
    "# 2) Wczytanie i weryfikacja danych"
   ]
  },
  {
   "cell_type": "markdown",
   "metadata": {},
   "source": [
    "#### Na początku, po wczytaniu df, sprawdzam czy wszystko wczytało się poprawnie i jak wygląda struktura dokumentu. W tym celu wywołuje funkcję head i tail."
   ]
  },
  {
   "cell_type": "code",
   "execution_count": 173,
   "metadata": {},
   "outputs": [
    {
     "data": {
      "text/html": [
       "<div>\n",
       "<style scoped>\n",
       "    .dataframe tbody tr th:only-of-type {\n",
       "        vertical-align: middle;\n",
       "    }\n",
       "\n",
       "    .dataframe tbody tr th {\n",
       "        vertical-align: top;\n",
       "    }\n",
       "\n",
       "    .dataframe thead th {\n",
       "        text-align: right;\n",
       "    }\n",
       "</style>\n",
       "<table border=\"1\" class=\"dataframe\">\n",
       "  <thead>\n",
       "    <tr style=\"text-align: right;\">\n",
       "      <th></th>\n",
       "      <th>PassengerId</th>\n",
       "      <th>Survived</th>\n",
       "      <th>Pclass</th>\n",
       "      <th>Name</th>\n",
       "      <th>Sex</th>\n",
       "      <th>Age</th>\n",
       "      <th>SibSp</th>\n",
       "      <th>Parch</th>\n",
       "      <th>Ticket</th>\n",
       "      <th>Fare</th>\n",
       "      <th>Cabin</th>\n",
       "      <th>Embarked</th>\n",
       "      <th>ship</th>\n",
       "    </tr>\n",
       "  </thead>\n",
       "  <tbody>\n",
       "    <tr>\n",
       "      <th>0</th>\n",
       "      <td>1</td>\n",
       "      <td>0</td>\n",
       "      <td>3</td>\n",
       "      <td>Braund, Mr. Owen Harris</td>\n",
       "      <td>male</td>\n",
       "      <td>22</td>\n",
       "      <td>1</td>\n",
       "      <td>0</td>\n",
       "      <td>A/5 21171</td>\n",
       "      <td>7,25</td>\n",
       "      <td>NaN</td>\n",
       "      <td>S</td>\n",
       "      <td>Titanic</td>\n",
       "    </tr>\n",
       "    <tr>\n",
       "      <th>1</th>\n",
       "      <td>2</td>\n",
       "      <td>1</td>\n",
       "      <td>1</td>\n",
       "      <td>Cumings, Mrs. John Bradley (Florence Briggs Th...</td>\n",
       "      <td>female</td>\n",
       "      <td>38</td>\n",
       "      <td>1</td>\n",
       "      <td>0</td>\n",
       "      <td>PC 17599</td>\n",
       "      <td>71,2833</td>\n",
       "      <td>C85</td>\n",
       "      <td>C</td>\n",
       "      <td>Titanic</td>\n",
       "    </tr>\n",
       "    <tr>\n",
       "      <th>2</th>\n",
       "      <td>3</td>\n",
       "      <td>1</td>\n",
       "      <td>3</td>\n",
       "      <td>Heikkinen, Miss. Laina</td>\n",
       "      <td>female</td>\n",
       "      <td>26</td>\n",
       "      <td>0</td>\n",
       "      <td>0</td>\n",
       "      <td>STON/O2. 3101282</td>\n",
       "      <td>7,925</td>\n",
       "      <td>NaN</td>\n",
       "      <td>S</td>\n",
       "      <td>Titanic</td>\n",
       "    </tr>\n",
       "    <tr>\n",
       "      <th>3</th>\n",
       "      <td>4</td>\n",
       "      <td>1</td>\n",
       "      <td>1</td>\n",
       "      <td>Futrelle, Mrs. Jacques Heath (Lily May Peel)</td>\n",
       "      <td>female</td>\n",
       "      <td>35</td>\n",
       "      <td>1</td>\n",
       "      <td>0</td>\n",
       "      <td>113803</td>\n",
       "      <td>53,1</td>\n",
       "      <td>C123</td>\n",
       "      <td>S</td>\n",
       "      <td>Titanic</td>\n",
       "    </tr>\n",
       "    <tr>\n",
       "      <th>4</th>\n",
       "      <td>5</td>\n",
       "      <td>0</td>\n",
       "      <td>3</td>\n",
       "      <td>Allen, Mr. William Henry</td>\n",
       "      <td>male</td>\n",
       "      <td>35</td>\n",
       "      <td>0</td>\n",
       "      <td>0</td>\n",
       "      <td>373450</td>\n",
       "      <td>8,05</td>\n",
       "      <td>NaN</td>\n",
       "      <td>S</td>\n",
       "      <td>Titanic</td>\n",
       "    </tr>\n",
       "  </tbody>\n",
       "</table>\n",
       "</div>"
      ],
      "text/plain": [
       "   PassengerId  Survived  Pclass  \\\n",
       "0            1         0       3   \n",
       "1            2         1       1   \n",
       "2            3         1       3   \n",
       "3            4         1       1   \n",
       "4            5         0       3   \n",
       "\n",
       "                                                Name     Sex Age  SibSp  \\\n",
       "0                            Braund, Mr. Owen Harris    male  22      1   \n",
       "1  Cumings, Mrs. John Bradley (Florence Briggs Th...  female  38      1   \n",
       "2                             Heikkinen, Miss. Laina  female  26      0   \n",
       "3       Futrelle, Mrs. Jacques Heath (Lily May Peel)  female  35      1   \n",
       "4                           Allen, Mr. William Henry    male  35      0   \n",
       "\n",
       "   Parch            Ticket     Fare Cabin Embarked     ship  \n",
       "0      0         A/5 21171     7,25   NaN        S  Titanic  \n",
       "1      0          PC 17599  71,2833   C85        C  Titanic  \n",
       "2      0  STON/O2. 3101282    7,925   NaN        S  Titanic  \n",
       "3      0            113803     53,1  C123        S  Titanic  \n",
       "4      0            373450     8,05   NaN        S  Titanic  "
      ]
     },
     "metadata": {},
     "output_type": "display_data"
    }
   ],
   "source": [
    "display(df_raw.head(5))"
   ]
  },
  {
   "cell_type": "code",
   "execution_count": 174,
   "metadata": {},
   "outputs": [
    {
     "data": {
      "text/html": [
       "<div>\n",
       "<style scoped>\n",
       "    .dataframe tbody tr th:only-of-type {\n",
       "        vertical-align: middle;\n",
       "    }\n",
       "\n",
       "    .dataframe tbody tr th {\n",
       "        vertical-align: top;\n",
       "    }\n",
       "\n",
       "    .dataframe thead th {\n",
       "        text-align: right;\n",
       "    }\n",
       "</style>\n",
       "<table border=\"1\" class=\"dataframe\">\n",
       "  <thead>\n",
       "    <tr style=\"text-align: right;\">\n",
       "      <th></th>\n",
       "      <th>PassengerId</th>\n",
       "      <th>Survived</th>\n",
       "      <th>Pclass</th>\n",
       "      <th>Name</th>\n",
       "      <th>Sex</th>\n",
       "      <th>Age</th>\n",
       "      <th>SibSp</th>\n",
       "      <th>Parch</th>\n",
       "      <th>Ticket</th>\n",
       "      <th>Fare</th>\n",
       "      <th>Cabin</th>\n",
       "      <th>Embarked</th>\n",
       "      <th>ship</th>\n",
       "    </tr>\n",
       "  </thead>\n",
       "  <tbody>\n",
       "    <tr>\n",
       "      <th>887</th>\n",
       "      <td>888</td>\n",
       "      <td>1</td>\n",
       "      <td>1</td>\n",
       "      <td>Graham, Miss. Margaret Edith</td>\n",
       "      <td>female</td>\n",
       "      <td>19</td>\n",
       "      <td>0</td>\n",
       "      <td>0</td>\n",
       "      <td>112053</td>\n",
       "      <td>30</td>\n",
       "      <td>B42</td>\n",
       "      <td>S</td>\n",
       "      <td>Titanic</td>\n",
       "    </tr>\n",
       "    <tr>\n",
       "      <th>888</th>\n",
       "      <td>889</td>\n",
       "      <td>0</td>\n",
       "      <td>3</td>\n",
       "      <td>Johnston, Miss. Catherine Helen \"Carrie\"</td>\n",
       "      <td>female</td>\n",
       "      <td>NaN</td>\n",
       "      <td>1</td>\n",
       "      <td>2</td>\n",
       "      <td>W./C. 6607</td>\n",
       "      <td>23,45</td>\n",
       "      <td>NaN</td>\n",
       "      <td>S</td>\n",
       "      <td>Titanic</td>\n",
       "    </tr>\n",
       "    <tr>\n",
       "      <th>889</th>\n",
       "      <td>890</td>\n",
       "      <td>1</td>\n",
       "      <td>1</td>\n",
       "      <td>Behr, Mr. Karl Howell</td>\n",
       "      <td>male</td>\n",
       "      <td>26</td>\n",
       "      <td>0</td>\n",
       "      <td>0</td>\n",
       "      <td>111369</td>\n",
       "      <td>30</td>\n",
       "      <td>C148</td>\n",
       "      <td>C</td>\n",
       "      <td>Titanic</td>\n",
       "    </tr>\n",
       "    <tr>\n",
       "      <th>890</th>\n",
       "      <td>891</td>\n",
       "      <td>0</td>\n",
       "      <td>3</td>\n",
       "      <td>Dooley, Mr. Patrick</td>\n",
       "      <td>male</td>\n",
       "      <td>32</td>\n",
       "      <td>0</td>\n",
       "      <td>0</td>\n",
       "      <td>370376</td>\n",
       "      <td>7,75</td>\n",
       "      <td>NaN</td>\n",
       "      <td>Q</td>\n",
       "      <td>Titanic</td>\n",
       "    </tr>\n",
       "    <tr>\n",
       "      <th>891</th>\n",
       "      <td>1000</td>\n",
       "      <td>1</td>\n",
       "      <td>1</td>\n",
       "      <td>Mr. Frederick Maxfield Hoyt</td>\n",
       "      <td>male</td>\n",
       "      <td>38</td>\n",
       "      <td>1</td>\n",
       "      <td>0</td>\n",
       "      <td>19943</td>\n",
       "      <td>90</td>\n",
       "      <td>C93</td>\n",
       "      <td>S</td>\n",
       "      <td>Titanic</td>\n",
       "    </tr>\n",
       "  </tbody>\n",
       "</table>\n",
       "</div>"
      ],
      "text/plain": [
       "     PassengerId  Survived  Pclass                                      Name  \\\n",
       "887          888         1       1              Graham, Miss. Margaret Edith   \n",
       "888          889         0       3  Johnston, Miss. Catherine Helen \"Carrie\"   \n",
       "889          890         1       1                     Behr, Mr. Karl Howell   \n",
       "890          891         0       3                       Dooley, Mr. Patrick   \n",
       "891         1000         1       1               Mr. Frederick Maxfield Hoyt   \n",
       "\n",
       "        Sex  Age  SibSp  Parch      Ticket   Fare Cabin Embarked     ship  \n",
       "887  female   19      0      0      112053     30   B42        S  Titanic  \n",
       "888  female  NaN      1      2  W./C. 6607  23,45   NaN        S  Titanic  \n",
       "889    male   26      0      0      111369     30  C148        C  Titanic  \n",
       "890    male   32      0      0      370376   7,75   NaN        Q  Titanic  \n",
       "891    male   38      1      0       19943     90   C93        S  Titanic  "
      ]
     },
     "metadata": {},
     "output_type": "display_data"
    }
   ],
   "source": [
    "display(df_raw.tail(5))"
   ]
  },
  {
   "cell_type": "markdown",
   "metadata": {},
   "source": [
    "### Poniżej widać, że dość problematycznymi kolumnami są Ticket oraz Name. \n",
    "#### Wynika to po pierwsze niekonsekwencji we wprowadzaniu danych, a po drugie z ich duplikacji (kilka osób może mieć ten sam numer biletu). \n",
    "#### Można jednak założyć, że do analizy nie będą potrzebne takie dane jak nazwiska i numery biletów. Zdecydowałem się więc je usunąć. \n",
    "<br>\n",
    " (bilety można by naprawić za pomocą regexu jednak ich wartość dla analizy jest żadna, z tego powodu ekonomiczniej będzie je usunąć)"
   ]
  },
  {
   "cell_type": "code",
   "execution_count": 175,
   "metadata": {},
   "outputs": [
    {
     "data": {
      "text/html": [
       "<div>\n",
       "<style scoped>\n",
       "    .dataframe tbody tr th:only-of-type {\n",
       "        vertical-align: middle;\n",
       "    }\n",
       "\n",
       "    .dataframe tbody tr th {\n",
       "        vertical-align: top;\n",
       "    }\n",
       "\n",
       "    .dataframe thead th {\n",
       "        text-align: right;\n",
       "    }\n",
       "</style>\n",
       "<table border=\"1\" class=\"dataframe\">\n",
       "  <thead>\n",
       "    <tr style=\"text-align: right;\">\n",
       "      <th></th>\n",
       "      <th>PassengerId</th>\n",
       "      <th>Survived</th>\n",
       "      <th>Pclass</th>\n",
       "      <th>Name</th>\n",
       "      <th>Sex</th>\n",
       "      <th>Age</th>\n",
       "      <th>SibSp</th>\n",
       "      <th>Parch</th>\n",
       "      <th>Ticket</th>\n",
       "      <th>Fare</th>\n",
       "      <th>Cabin</th>\n",
       "      <th>Embarked</th>\n",
       "      <th>ship</th>\n",
       "    </tr>\n",
       "  </thead>\n",
       "  <tbody>\n",
       "    <tr>\n",
       "      <th>0</th>\n",
       "      <td>1</td>\n",
       "      <td>0</td>\n",
       "      <td>3</td>\n",
       "      <td>Braund, Mr. Owen Harris</td>\n",
       "      <td>male</td>\n",
       "      <td>22</td>\n",
       "      <td>1</td>\n",
       "      <td>0</td>\n",
       "      <td>A/5 21171</td>\n",
       "      <td>7,25</td>\n",
       "      <td>NaN</td>\n",
       "      <td>S</td>\n",
       "      <td>Titanic</td>\n",
       "    </tr>\n",
       "    <tr>\n",
       "      <th>1</th>\n",
       "      <td>2</td>\n",
       "      <td>1</td>\n",
       "      <td>1</td>\n",
       "      <td>Cumings, Mrs. John Bradley (Florence Briggs Th...</td>\n",
       "      <td>female</td>\n",
       "      <td>38</td>\n",
       "      <td>1</td>\n",
       "      <td>0</td>\n",
       "      <td>PC 17599</td>\n",
       "      <td>71,2833</td>\n",
       "      <td>C85</td>\n",
       "      <td>C</td>\n",
       "      <td>Titanic</td>\n",
       "    </tr>\n",
       "    <tr>\n",
       "      <th>2</th>\n",
       "      <td>3</td>\n",
       "      <td>1</td>\n",
       "      <td>3</td>\n",
       "      <td>Heikkinen, Miss. Laina</td>\n",
       "      <td>female</td>\n",
       "      <td>26</td>\n",
       "      <td>0</td>\n",
       "      <td>0</td>\n",
       "      <td>STON/O2. 3101282</td>\n",
       "      <td>7,925</td>\n",
       "      <td>NaN</td>\n",
       "      <td>S</td>\n",
       "      <td>Titanic</td>\n",
       "    </tr>\n",
       "    <tr>\n",
       "      <th>3</th>\n",
       "      <td>4</td>\n",
       "      <td>1</td>\n",
       "      <td>1</td>\n",
       "      <td>Futrelle, Mrs. Jacques Heath (Lily May Peel)</td>\n",
       "      <td>female</td>\n",
       "      <td>35</td>\n",
       "      <td>1</td>\n",
       "      <td>0</td>\n",
       "      <td>113803</td>\n",
       "      <td>53,1</td>\n",
       "      <td>C123</td>\n",
       "      <td>S</td>\n",
       "      <td>Titanic</td>\n",
       "    </tr>\n",
       "    <tr>\n",
       "      <th>4</th>\n",
       "      <td>5</td>\n",
       "      <td>0</td>\n",
       "      <td>3</td>\n",
       "      <td>Allen, Mr. William Henry</td>\n",
       "      <td>male</td>\n",
       "      <td>35</td>\n",
       "      <td>0</td>\n",
       "      <td>0</td>\n",
       "      <td>373450</td>\n",
       "      <td>8,05</td>\n",
       "      <td>NaN</td>\n",
       "      <td>S</td>\n",
       "      <td>Titanic</td>\n",
       "    </tr>\n",
       "  </tbody>\n",
       "</table>\n",
       "</div>"
      ],
      "text/plain": [
       "   PassengerId  Survived  Pclass  \\\n",
       "0            1         0       3   \n",
       "1            2         1       1   \n",
       "2            3         1       3   \n",
       "3            4         1       1   \n",
       "4            5         0       3   \n",
       "\n",
       "                                                Name     Sex Age  SibSp  \\\n",
       "0                            Braund, Mr. Owen Harris    male  22      1   \n",
       "1  Cumings, Mrs. John Bradley (Florence Briggs Th...  female  38      1   \n",
       "2                             Heikkinen, Miss. Laina  female  26      0   \n",
       "3       Futrelle, Mrs. Jacques Heath (Lily May Peel)  female  35      1   \n",
       "4                           Allen, Mr. William Henry    male  35      0   \n",
       "\n",
       "   Parch            Ticket     Fare Cabin Embarked     ship  \n",
       "0      0         A/5 21171     7,25   NaN        S  Titanic  \n",
       "1      0          PC 17599  71,2833   C85        C  Titanic  \n",
       "2      0  STON/O2. 3101282    7,925   NaN        S  Titanic  \n",
       "3      0            113803     53,1  C123        S  Titanic  \n",
       "4      0            373450     8,05   NaN        S  Titanic  "
      ]
     },
     "execution_count": 175,
     "metadata": {},
     "output_type": "execute_result"
    }
   ],
   "source": [
    "df_raw.head(5)"
   ]
  },
  {
   "cell_type": "code",
   "execution_count": 176,
   "metadata": {},
   "outputs": [
    {
     "name": "stdout",
     "output_type": "stream",
     "text": [
      "['Titanic']\n"
     ]
    }
   ],
   "source": [
    "#Wszystkie wartości kolumny ship\n",
    "print(df_raw['ship'].unique())\n"
   ]
  },
  {
   "cell_type": "markdown",
   "metadata": {},
   "source": [
    "#### 1) jak widać powyżej, kolumna ship również nie przyda się w analizie ponieważ zawiera tylko jedną wartość\n",
    "#### 2) podobnie jest z numerami kabin. Można je częściowo uzupełnić po numerach biletu, jednak liczba braku danych w tej kategorii i nikła wartość w analizie sugeruje ich usunięcie, co też robie."
   ]
  },
  {
   "cell_type": "code",
   "execution_count": 177,
   "metadata": {},
   "outputs": [],
   "source": [
    "#Budowanie DF bez zbędnych kolumn\n",
    "df_raw = df_raw[['PassengerId', 'Survived', 'Pclass', 'Sex', 'Age', 'SibSp', 'Parch', 'Fare', 'Embarked']]"
   ]
  },
  {
   "cell_type": "markdown",
   "metadata": {},
   "source": [
    "# 3) Wstępne czyszczenie danych"
   ]
  },
  {
   "cell_type": "markdown",
   "metadata": {},
   "source": [
    "#### Następnym krokiem jest usunięcie rekordów zduplikowanych i rekordów zawierających braki danych\n",
    "\n",
    "##### oczywiście z brakiem danych można poradzić sobie na wiele różnych sposobów - powinno się dobrać odpowiednią metodę pod konkretny cel analizy. Ja zdecydowałem się je usunąć. \n"
   ]
  },
  {
   "cell_type": "markdown",
   "metadata": {},
   "source": [
    "* Braki danych usuwam za pomocą napisanej funkcji. Wcześniejsze usunięcie kolumn nieistotnych do analizy gwarantuje mi w tym kroku zachowanie znacznie większej liczby cennych danych\n",
    "\n",
    "* Zduplikowane wiersze są usuwane po PassangerId. Późniejszą weryfikacja upewniam się, że ten zabieg wystarczy."
   ]
  },
  {
   "cell_type": "code",
   "execution_count": 178,
   "metadata": {},
   "outputs": [
    {
     "name": "stdout",
     "output_type": "stream",
     "text": [
      "Deleted NA rows: 175\n",
      "Deleted Duplicates rows by PassengerId: 4\n"
     ]
    }
   ],
   "source": [
    "#funkcja usuwająca braki danych i sprawdzająca czy istnieją duplikaty. Jeśli istnieją, to funkcja je usuwa. Zwracana jest wyczyszczona ramka.\n",
    "\n",
    "def delete_NA_and_duplicates(df):\n",
    "    \n",
    "    #delete NA\n",
    "    raw_len = len(df)\n",
    "    df = df.dropna()\n",
    "    print(\"Deleted NA rows: {}\".format(raw_len - len(df)))\n",
    "    \n",
    "    #delete duplicates\n",
    "    dup = len(df[df['PassengerId'].duplicated()])\n",
    "    if dup > 0:\n",
    "        df = df.drop_duplicates(subset='PassengerId', keep=\"last\")\n",
    "        print(\"Deleted Duplicates rows by PassengerId: {}\".format(dup))\n",
    "       \n",
    "        return df\n",
    "    else:\n",
    "        return df\n",
    "    \n",
    "    \n",
    "df = delete_NA_and_duplicates(df_raw)"
   ]
  },
  {
   "cell_type": "code",
   "execution_count": 179,
   "metadata": {},
   "outputs": [
    {
     "data": {
      "text/html": [
       "<div>\n",
       "<style scoped>\n",
       "    .dataframe tbody tr th:only-of-type {\n",
       "        vertical-align: middle;\n",
       "    }\n",
       "\n",
       "    .dataframe tbody tr th {\n",
       "        vertical-align: top;\n",
       "    }\n",
       "\n",
       "    .dataframe thead th {\n",
       "        text-align: right;\n",
       "    }\n",
       "</style>\n",
       "<table border=\"1\" class=\"dataframe\">\n",
       "  <thead>\n",
       "    <tr style=\"text-align: right;\">\n",
       "      <th></th>\n",
       "      <th>PassengerId</th>\n",
       "      <th>Survived</th>\n",
       "      <th>Pclass</th>\n",
       "      <th>Sex</th>\n",
       "      <th>Age</th>\n",
       "      <th>SibSp</th>\n",
       "      <th>Parch</th>\n",
       "      <th>Fare</th>\n",
       "      <th>Embarked</th>\n",
       "    </tr>\n",
       "  </thead>\n",
       "  <tbody>\n",
       "  </tbody>\n",
       "</table>\n",
       "</div>"
      ],
      "text/plain": [
       "Empty DataFrame\n",
       "Columns: [PassengerId, Survived, Pclass, Sex, Age, SibSp, Parch, Fare, Embarked]\n",
       "Index: []"
      ]
     },
     "execution_count": 179,
     "metadata": {},
     "output_type": "execute_result"
    }
   ],
   "source": [
    "#Sprawdzenie duplikatów\n",
    "df[df.duplicated()]"
   ]
  },
  {
   "cell_type": "markdown",
   "metadata": {},
   "source": [
    "# 4) Weryfikacja wyczyszczonych danych"
   ]
  },
  {
   "cell_type": "markdown",
   "metadata": {},
   "source": [
    "#### Na wyczyszczonych wstępnie danych używam funkcji info, aby uzyskać podstawowe informacje o tabeli\n",
    "* Jak widac, kolumna Age jest w tym przypadku jest typu object. Są to wartości, które powinny być zapisane jako Int, co sugeruje, że należy się jej przyjrzeć."
   ]
  },
  {
   "cell_type": "code",
   "execution_count": 180,
   "metadata": {},
   "outputs": [
    {
     "name": "stdout",
     "output_type": "stream",
     "text": [
      "<class 'pandas.core.frame.DataFrame'>\n",
      "Int64Index: 713 entries, 0 to 891\n",
      "Data columns (total 9 columns):\n",
      " #   Column       Non-Null Count  Dtype \n",
      "---  ------       --------------  ----- \n",
      " 0   PassengerId  713 non-null    int64 \n",
      " 1   Survived     713 non-null    int64 \n",
      " 2   Pclass       713 non-null    int64 \n",
      " 3   Sex          713 non-null    object\n",
      " 4   Age          713 non-null    object\n",
      " 5   SibSp        713 non-null    int64 \n",
      " 6   Parch        713 non-null    int64 \n",
      " 7   Fare         713 non-null    object\n",
      " 8   Embarked     713 non-null    object\n",
      "dtypes: int64(5), object(4)\n",
      "memory usage: 55.7+ KB\n"
     ]
    }
   ],
   "source": [
    "#Basic info about df\n",
    "df.info()"
   ]
  },
  {
   "cell_type": "markdown",
   "metadata": {},
   "source": [
    "#### Sprawdzam jak wygląda kolumna Age za pomocą funkcji count_values()"
   ]
  },
  {
   "cell_type": "code",
   "execution_count": 181,
   "metadata": {},
   "outputs": [
    {
     "data": {
      "text/plain": [
       "array([0, 1], dtype=int64)"
      ]
     },
     "execution_count": 181,
     "metadata": {},
     "output_type": "execute_result"
    }
   ],
   "source": [
    "df.Survived.unique()"
   ]
  },
  {
   "cell_type": "code",
   "execution_count": 182,
   "metadata": {},
   "outputs": [],
   "source": [
    "#Fix Age col\n",
    "testAge = df['Age'].value_counts().to_dict()"
   ]
  },
  {
   "cell_type": "code",
   "execution_count": 183,
   "metadata": {},
   "outputs": [
    {
     "data": {
      "text/plain": [
       "{'24': 30,\n",
       " '22': 27,\n",
       " '18': 26,\n",
       " '19': 25,\n",
       " '28': 24,\n",
       " '21': 24,\n",
       " '30': 24,\n",
       " '36': 22,\n",
       " '25': 22,\n",
       " '29': 20,\n",
       " '27': 18,\n",
       " '26': 18,\n",
       " '32': 18,\n",
       " '35': 18,\n",
       " '16': 17,\n",
       " '31': 17,\n",
       " '23': 15,\n",
       " '34': 15,\n",
       " '33': 15,\n",
       " '20': 15,\n",
       " '39': 13,\n",
       " '42': 13,\n",
       " '40': 13,\n",
       " '17': 13,\n",
       " '45': 12,\n",
       " '38': 11,\n",
       " '50': 10,\n",
       " '4': 10,\n",
       " '2': 10,\n",
       " '47': 9,\n",
       " '48': 9,\n",
       " '44': 9,\n",
       " '54': 8,\n",
       " '9': 8,\n",
       " '51': 7,\n",
       " '1': 7,\n",
       " '41': 6,\n",
       " '37': 6,\n",
       " '14': 6,\n",
       " '49': 6,\n",
       " '52': 6,\n",
       " '3': 6,\n",
       " '15': 5,\n",
       " '58': 5,\n",
       " '11': 4,\n",
       " '60': 4,\n",
       " '8': 4,\n",
       " '56': 4,\n",
       " '5': 4,\n",
       " '43': 4,\n",
       " '61': 3,\n",
       " '46': 3,\n",
       " '65': 3,\n",
       " '7': 3,\n",
       " '6': 3,\n",
       " '62': 3,\n",
       " '63': 2,\n",
       " '57': 2,\n",
       " '32,5': 2,\n",
       " '70': 2,\n",
       " '10': 2,\n",
       " '45,5': 2,\n",
       " '0,75': 2,\n",
       " '59': 2,\n",
       " '28,5': 2,\n",
       " '0,83': 2,\n",
       " '40,5': 2,\n",
       " '71': 2,\n",
       " '64': 2,\n",
       " '13': 2,\n",
       " '30,5': 2,\n",
       " '55': 2,\n",
       " '0,67': 1,\n",
       " '55,5': 1,\n",
       " '14,5': 1,\n",
       " '36,5': 1,\n",
       " '74': 1,\n",
       " '70,5': 1,\n",
       " '23,5': 1,\n",
       " '0,42': 1,\n",
       " '-12': 1,\n",
       " '20,5': 1,\n",
       " '80': 1,\n",
       " '66': 1,\n",
       " '.9': 1,\n",
       " '12': 1,\n",
       " '53': 1,\n",
       " '24,5': 1,\n",
       " '0,92': 1,\n",
       " '4435': 1,\n",
       " '34,5': 1,\n",
       " '-3': 1,\n",
       " '250': 1}"
      ]
     },
     "metadata": {},
     "output_type": "display_data"
    }
   ],
   "source": [
    "display(testAge)"
   ]
  },
  {
   "cell_type": "markdown",
   "metadata": {},
   "source": [
    "#### W kolumnie Age mamy dane zawierające wartości dziesiętne. Nie ma możliwości sprawdzenia ich poprawności, dalego wszystkie dane o wartości niecałkowitej zostaną usunięte."
   ]
  },
  {
   "cell_type": "code",
   "execution_count": 184,
   "metadata": {},
   "outputs": [],
   "source": [
    "df = df[df.Age.apply(lambda x: x.isnumeric())]"
   ]
  },
  {
   "cell_type": "code",
   "execution_count": 185,
   "metadata": {},
   "outputs": [
    {
     "data": {
      "text/html": [
       "<div>\n",
       "<style scoped>\n",
       "    .dataframe tbody tr th:only-of-type {\n",
       "        vertical-align: middle;\n",
       "    }\n",
       "\n",
       "    .dataframe tbody tr th {\n",
       "        vertical-align: top;\n",
       "    }\n",
       "\n",
       "    .dataframe thead th {\n",
       "        text-align: right;\n",
       "    }\n",
       "</style>\n",
       "<table border=\"1\" class=\"dataframe\">\n",
       "  <thead>\n",
       "    <tr style=\"text-align: right;\">\n",
       "      <th></th>\n",
       "      <th>PassengerId</th>\n",
       "      <th>Survived</th>\n",
       "      <th>Pclass</th>\n",
       "      <th>Sex</th>\n",
       "      <th>Age</th>\n",
       "      <th>SibSp</th>\n",
       "      <th>Parch</th>\n",
       "      <th>Fare</th>\n",
       "      <th>Embarked</th>\n",
       "    </tr>\n",
       "  </thead>\n",
       "  <tbody>\n",
       "    <tr>\n",
       "      <th>0</th>\n",
       "      <td>1</td>\n",
       "      <td>0</td>\n",
       "      <td>3</td>\n",
       "      <td>male</td>\n",
       "      <td>22</td>\n",
       "      <td>1</td>\n",
       "      <td>0</td>\n",
       "      <td>7,25</td>\n",
       "      <td>S</td>\n",
       "    </tr>\n",
       "    <tr>\n",
       "      <th>1</th>\n",
       "      <td>2</td>\n",
       "      <td>1</td>\n",
       "      <td>1</td>\n",
       "      <td>female</td>\n",
       "      <td>38</td>\n",
       "      <td>1</td>\n",
       "      <td>0</td>\n",
       "      <td>71,2833</td>\n",
       "      <td>C</td>\n",
       "    </tr>\n",
       "    <tr>\n",
       "      <th>2</th>\n",
       "      <td>3</td>\n",
       "      <td>1</td>\n",
       "      <td>3</td>\n",
       "      <td>female</td>\n",
       "      <td>26</td>\n",
       "      <td>0</td>\n",
       "      <td>0</td>\n",
       "      <td>7,925</td>\n",
       "      <td>S</td>\n",
       "    </tr>\n",
       "    <tr>\n",
       "      <th>3</th>\n",
       "      <td>4</td>\n",
       "      <td>1</td>\n",
       "      <td>1</td>\n",
       "      <td>female</td>\n",
       "      <td>35</td>\n",
       "      <td>1</td>\n",
       "      <td>0</td>\n",
       "      <td>53,1</td>\n",
       "      <td>S</td>\n",
       "    </tr>\n",
       "    <tr>\n",
       "      <th>4</th>\n",
       "      <td>5</td>\n",
       "      <td>0</td>\n",
       "      <td>3</td>\n",
       "      <td>male</td>\n",
       "      <td>35</td>\n",
       "      <td>0</td>\n",
       "      <td>0</td>\n",
       "      <td>8,05</td>\n",
       "      <td>S</td>\n",
       "    </tr>\n",
       "    <tr>\n",
       "      <th>...</th>\n",
       "      <td>...</td>\n",
       "      <td>...</td>\n",
       "      <td>...</td>\n",
       "      <td>...</td>\n",
       "      <td>...</td>\n",
       "      <td>...</td>\n",
       "      <td>...</td>\n",
       "      <td>...</td>\n",
       "      <td>...</td>\n",
       "    </tr>\n",
       "    <tr>\n",
       "      <th>886</th>\n",
       "      <td>887</td>\n",
       "      <td>0</td>\n",
       "      <td>2</td>\n",
       "      <td>male</td>\n",
       "      <td>27</td>\n",
       "      <td>0</td>\n",
       "      <td>0</td>\n",
       "      <td>13</td>\n",
       "      <td>S</td>\n",
       "    </tr>\n",
       "    <tr>\n",
       "      <th>887</th>\n",
       "      <td>888</td>\n",
       "      <td>1</td>\n",
       "      <td>1</td>\n",
       "      <td>female</td>\n",
       "      <td>19</td>\n",
       "      <td>0</td>\n",
       "      <td>0</td>\n",
       "      <td>30</td>\n",
       "      <td>S</td>\n",
       "    </tr>\n",
       "    <tr>\n",
       "      <th>889</th>\n",
       "      <td>890</td>\n",
       "      <td>1</td>\n",
       "      <td>1</td>\n",
       "      <td>male</td>\n",
       "      <td>26</td>\n",
       "      <td>0</td>\n",
       "      <td>0</td>\n",
       "      <td>30</td>\n",
       "      <td>C</td>\n",
       "    </tr>\n",
       "    <tr>\n",
       "      <th>890</th>\n",
       "      <td>891</td>\n",
       "      <td>0</td>\n",
       "      <td>3</td>\n",
       "      <td>male</td>\n",
       "      <td>32</td>\n",
       "      <td>0</td>\n",
       "      <td>0</td>\n",
       "      <td>7,75</td>\n",
       "      <td>Q</td>\n",
       "    </tr>\n",
       "    <tr>\n",
       "      <th>891</th>\n",
       "      <td>1000</td>\n",
       "      <td>1</td>\n",
       "      <td>1</td>\n",
       "      <td>male</td>\n",
       "      <td>38</td>\n",
       "      <td>1</td>\n",
       "      <td>0</td>\n",
       "      <td>90</td>\n",
       "      <td>S</td>\n",
       "    </tr>\n",
       "  </tbody>\n",
       "</table>\n",
       "<p>685 rows × 9 columns</p>\n",
       "</div>"
      ],
      "text/plain": [
       "     PassengerId  Survived  Pclass     Sex Age  SibSp  Parch     Fare Embarked\n",
       "0              1         0       3    male  22      1      0     7,25        S\n",
       "1              2         1       1  female  38      1      0  71,2833        C\n",
       "2              3         1       3  female  26      0      0    7,925        S\n",
       "3              4         1       1  female  35      1      0     53,1        S\n",
       "4              5         0       3    male  35      0      0     8,05        S\n",
       "..           ...       ...     ...     ...  ..    ...    ...      ...      ...\n",
       "886          887         0       2    male  27      0      0       13        S\n",
       "887          888         1       1  female  19      0      0       30        S\n",
       "889          890         1       1    male  26      0      0       30        C\n",
       "890          891         0       3    male  32      0      0     7,75        Q\n",
       "891         1000         1       1    male  38      1      0       90        S\n",
       "\n",
       "[685 rows x 9 columns]"
      ]
     },
     "execution_count": 185,
     "metadata": {},
     "output_type": "execute_result"
    }
   ],
   "source": [
    "df"
   ]
  },
  {
   "cell_type": "markdown",
   "metadata": {},
   "source": [
    "# 5) Ponowna Weryfikacja\n",
    "\n",
    "* za pomocą wartości unikalnych mogę szybko przejrzeć poprawność powstałych danych"
   ]
  },
  {
   "cell_type": "code",
   "execution_count": 186,
   "metadata": {},
   "outputs": [],
   "source": [
    "def createString(string):\n",
    "    \n",
    "    try:\n",
    "        print(10*\"-\" + string + 10*\"-\")\n",
    "    except:\n",
    "        print('Smth wrong')\n",
    "        \n",
    "def valueCounts(df):\n",
    "    \n",
    "    num_of_cols = len(df.columns)\n",
    "    \n",
    "    for i, j in enumerate(df.columns):\n",
    "        print(j)\n",
    "        createString(\"Unikalne {}\".format(j))\n",
    "        print(df[j].value_counts())\n",
    "    "
   ]
  },
  {
   "cell_type": "code",
   "execution_count": 187,
   "metadata": {},
   "outputs": [
    {
     "name": "stdout",
     "output_type": "stream",
     "text": [
      "PassengerId\n",
      "----------Unikalne PassengerId----------\n",
      "1000    1\n",
      "294     1\n",
      "311     1\n",
      "310     1\n",
      "309     1\n",
      "       ..\n",
      "600     1\n",
      "598     1\n",
      "596     1\n",
      "595     1\n",
      "1       1\n",
      "Name: PassengerId, Length: 685, dtype: int64\n",
      "Survived\n",
      "----------Unikalne Survived----------\n",
      "0    406\n",
      "1    279\n",
      "Name: Survived, dtype: int64\n",
      "Pclass\n",
      "----------Unikalne Pclass----------\n",
      "3    337\n",
      "1    181\n",
      "2    167\n",
      "Name: Pclass, dtype: int64\n",
      "Sex\n",
      "----------Unikalne Sex----------\n",
      "male       431\n",
      "female     251\n",
      "femmale      1\n",
      "malef        1\n",
      "mal          1\n",
      "Name: Sex, dtype: int64\n",
      "Age\n",
      "----------Unikalne Age----------\n",
      "24      30\n",
      "22      27\n",
      "18      26\n",
      "19      25\n",
      "28      24\n",
      "        ..\n",
      "66       1\n",
      "80       1\n",
      "53       1\n",
      "4435     1\n",
      "74       1\n",
      "Name: Age, Length: 72, dtype: int64\n",
      "SibSp\n",
      "----------Unikalne SibSp----------\n",
      "0    450\n",
      "1    177\n",
      "2     23\n",
      "4     18\n",
      "3     12\n",
      "5      5\n",
      "Name: SibSp, dtype: int64\n",
      "Parch\n",
      "----------Unikalne Parch----------\n",
      "0    503\n",
      "1    105\n",
      "2     64\n",
      "3      5\n",
      "5      4\n",
      "4      4\n",
      "Name: Parch, dtype: int64\n",
      "Fare\n",
      "----------Unikalne Fare----------\n",
      "13         40\n",
      "26         29\n",
      "8,05       26\n",
      "10,5       24\n",
      "7,8958     24\n",
      "           ..\n",
      "61,3792     1\n",
      "75,25       1\n",
      "63,3583     1\n",
      "76,2917     1\n",
      "5           1\n",
      "Name: Fare, Length: 218, dtype: int64\n",
      "Embarked\n",
      "----------Unikalne Embarked----------\n",
      "S     538\n",
      "C     121\n",
      "Q      24\n",
      "Qe      1\n",
      "So      1\n",
      "Name: Embarked, dtype: int64\n"
     ]
    }
   ],
   "source": [
    "valueCounts(df)"
   ]
  },
  {
   "cell_type": "markdown",
   "metadata": {},
   "source": [
    "### Powyższe podsumowanie wskazuje jeszcze kilka błędów które należy naprawić ręcznie\n",
    "\n",
    "##### 1) Kolumna Sex ma błędy w nazewnictwie. Przez co w trzech wierszach jest błędnie napisane female/male\n",
    "\n",
    "##### 2) Kolumna Age zawiera nierzeczywistą wartość - ponad 4000 lat. Należy usunąć ten wiersz.\n",
    "\n",
    "##### 3) Kolumna Embraked zawiera analogiczny jak w przypadku Sex błąd. Należy go ręcznie naprawić."
   ]
  },
  {
   "cell_type": "markdown",
   "metadata": {},
   "source": [
    "# 6) Ręczne dopracowanie danych"
   ]
  },
  {
   "cell_type": "markdown",
   "metadata": {},
   "source": [
    "### Zmiana błędnych wartości w Sex"
   ]
  },
  {
   "cell_type": "code",
   "execution_count": 188,
   "metadata": {},
   "outputs": [],
   "source": [
    "df = df.copy()\n",
    "df['Sex'] = df['Sex'].replace({'malef': 'male', 'mal': 'male', 'femmale':'female'})"
   ]
  },
  {
   "cell_type": "code",
   "execution_count": 189,
   "metadata": {},
   "outputs": [
    {
     "name": "stdout",
     "output_type": "stream",
     "text": [
      "['male' 'female']\n"
     ]
    }
   ],
   "source": [
    "#Walidacja danych Sex\n",
    "print(df['Sex'].unique())"
   ]
  },
  {
   "cell_type": "markdown",
   "metadata": {},
   "source": [
    "### Usuwanie błędnych wartości w kolumnie Age\n"
   ]
  },
  {
   "cell_type": "code",
   "execution_count": 190,
   "metadata": {},
   "outputs": [],
   "source": [
    "#Zmiana typu Age ze string na INT oraz zmiana Survived z int na Boolean\n",
    "df = df.astype({\"Age\": int, \"Survived\":bool})"
   ]
  },
  {
   "cell_type": "code",
   "execution_count": 191,
   "metadata": {},
   "outputs": [],
   "source": [
    "#Sprawdzam wiek uczestników powyżej 90 lat. Usuwam uszkodzone dane\n",
    "print(df[df['Age'] > 90])\n",
    "df = df[df['Age'] < 90]"
   ]
  },
  {
   "cell_type": "code",
   "execution_count": null,
   "metadata": {},
   "outputs": [],
   "source": []
  },
  {
   "cell_type": "code",
   "execution_count": 192,
   "metadata": {},
   "outputs": [
    {
     "name": "stdout",
     "output_type": "stream",
     "text": [
      "MAX AGE: 80\n",
      "MIN AGE: 1\n"
     ]
    }
   ],
   "source": [
    "#Walidacja danych Age\n",
    "print(\"MAX AGE: {}\".format(df['Age'].max()))\n",
    "print(\"MIN AGE: {}\".format(df['Age'].min()))"
   ]
  },
  {
   "cell_type": "markdown",
   "metadata": {},
   "source": [
    "### Zmiana błędnych wartości w Embraked"
   ]
  },
  {
   "cell_type": "code",
   "execution_count": 193,
   "metadata": {},
   "outputs": [],
   "source": [
    "df = df.copy()\n",
    "df['Embarked'] = df['Embarked'].replace({'So':'S', 'Qe':'Q'})\n"
   ]
  },
  {
   "cell_type": "code",
   "execution_count": 194,
   "metadata": {},
   "outputs": [
    {
     "data": {
      "text/plain": [
       "array(['S', 'C', 'Q'], dtype=object)"
      ]
     },
     "execution_count": 194,
     "metadata": {},
     "output_type": "execute_result"
    }
   ],
   "source": [
    "#Walidacja danych Embraked\n",
    "df['Embarked'].unique()"
   ]
  },
  {
   "cell_type": "code",
   "execution_count": null,
   "metadata": {},
   "outputs": [],
   "source": []
  },
  {
   "cell_type": "markdown",
   "metadata": {},
   "source": [
    "# 7) Zapis oczyszconego df do pliku"
   ]
  },
  {
   "cell_type": "code",
   "execution_count": 196,
   "metadata": {},
   "outputs": [],
   "source": [
    "df.to_csv('TitanicCleaned.tsv', sep = sep, index = False)"
   ]
  },
  {
   "cell_type": "code",
   "execution_count": null,
   "metadata": {},
   "outputs": [],
   "source": []
  },
  {
   "cell_type": "markdown",
   "metadata": {},
   "source": [
    "# WNIOSKI"
   ]
  },
  {
   "cell_type": "markdown",
   "metadata": {},
   "source": [
    "Plik wymagał usunięcia duplikatów, usunięcia zbędnych kolumn, usunięcia wierszy z wartościami brakującymi, ujednolicenia niektórych wartości.\n",
    "\n",
    "Uzupełnienie brakujących danych było w przypadku niektórych danych nieopłacalne lub niemożliwe. Przykładowo kabiny zawierały ogromny odsetek danych brakujących. Nie były także możliwe do uzupełnienia (można było próbować mapować numery kabin po numerze biletów, ale tam również brakowało danych + uzyskane dane nie byłyby wystarczająco \"pewne\"). Dzięki usunięciu zbędnych kolumn, późniejsze czyszczenie tabeli z wartości NaN pozwoliło zachować ponad 680 wierszy, gdy z zachowanymi kolumnami byłoby ich około 170. Uznałem więc, że lepiej jest zachować ponad 4-krotnie więcej danych poprawnych i uzupełnionych, bez nieistotnych kolumn, niż zachowywać kolumny i drastycznie zmniejszyć liczbę obserwacji.\n",
    "\n",
    "Chciałbym także zaznaczyć, że o ile skalowalność w tego typu skryptach jest jak najbardziej możliwa i zalecana (i starałem się ją zachować, używając w większości funkcji pandas, działających znacznie szybciej niż np. pętle for i możliwych do zastosowania w każdym innym DF), to używanie tego typu skryptów dla innych danych wejściowych, niż tych do których zostały napisane, jest często niemożliwe lub nieopłacalne, zwłaszcza jeśli chcemy by dany skrypt działał automatycznie. Widać to choćby na przykładzie literówek w kolumnie Sex. Programista musiałby przewidzieć możliwe błędy, bądź napisać algorytm je wykrywający, by nie tracić zbyt dużej ilości danych. \n",
    "\n",
    "Przykładowo, gdybyśmy chcieli teraz załadować zamiast pliku titanic, jakiś inny DF np. z danymi technicznymi samochodów osobowych, musielibyśmy przewidzieć programowo, które kolumny są mniej istotne, a które bardziej, jakie błędy mogą wystąpić i do jakiej analizy chcemy przeznaczyć plik wynikowy. Oznacza to, że większość przykładów będzie indywudalna i ciężko będzie je zautomatyzować jednym skryptem - jak czyszczenie danych -, by dane te były jak najbardziej przydatne do późniejszej analizy. \n"
   ]
  },
  {
   "cell_type": "code",
   "execution_count": null,
   "metadata": {},
   "outputs": [],
   "source": []
  },
  {
   "cell_type": "code",
   "execution_count": null,
   "metadata": {},
   "outputs": [],
   "source": []
  }
 ],
 "metadata": {
  "kernelspec": {
   "display_name": "Python 3",
   "language": "python",
   "name": "python3"
  },
  "language_info": {
   "codemirror_mode": {
    "name": "ipython",
    "version": 3
   },
   "file_extension": ".py",
   "mimetype": "text/x-python",
   "name": "python",
   "nbconvert_exporter": "python",
   "pygments_lexer": "ipython3",
   "version": "3.8.5"
  }
 },
 "nbformat": 4,
 "nbformat_minor": 4
}
